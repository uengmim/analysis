{
 "cells": [
  {
   "cell_type": "code",
   "execution_count": 5,
   "metadata": {},
   "outputs": [],
   "source": [
    "import pandas as pd\n",
    "import matplotlib.pyplot as plt\n",
    "import seaborn as sns\n",
    "import requests\n",
    "import xmltodict\n",
    "import json\n",
    "#서울열린데이터광장"
   ]
  },
  {
   "cell_type": "code",
   "execution_count": 6,
   "metadata": {},
   "outputs": [
    {
     "data": {
      "text/html": [
       "<div>\n",
       "<style scoped>\n",
       "    .dataframe tbody tr th:only-of-type {\n",
       "        vertical-align: middle;\n",
       "    }\n",
       "\n",
       "    .dataframe tbody tr th {\n",
       "        vertical-align: top;\n",
       "    }\n",
       "\n",
       "    .dataframe thead th {\n",
       "        text-align: right;\n",
       "    }\n",
       "</style>\n",
       "<table border=\"1\" class=\"dataframe\">\n",
       "  <thead>\n",
       "    <tr style=\"text-align: right;\">\n",
       "      <th></th>\n",
       "      <th>고유번호</th>\n",
       "      <th>시설명</th>\n",
       "      <th>담당구</th>\n",
       "      <th>주소</th>\n",
       "      <th>연락처</th>\n",
       "      <th>홈페이지</th>\n",
       "      <th>추천수</th>\n",
       "      <th>주출입구 접근로 여부</th>\n",
       "      <th>장애인 전용 주차구역 여부</th>\n",
       "      <th>주출입구 높이차이 제거 여부</th>\n",
       "      <th>장애인용 승강기 여부</th>\n",
       "      <th>장애인 화장실 여부</th>\n",
       "      <th>장애인용 객실 이용가능 여부</th>\n",
       "      <th>장애인용 관람석 이용가능 여부</th>\n",
       "      <th>장애인 매표소 여부</th>\n",
       "      <th>시각장애인 편의서비스 여부</th>\n",
       "      <th>청각장애인 편의서비스 여부</th>\n",
       "      <th>안내 서비스 여부</th>\n",
       "      <th>휠체어 대여 여부</th>\n",
       "    </tr>\n",
       "  </thead>\n",
       "  <tbody>\n",
       "    <tr>\n",
       "      <th>0</th>\n",
       "      <td>22</td>\n",
       "      <td>aA갤러리_aA디자인뮤지엄</td>\n",
       "      <td>마포구</td>\n",
       "      <td>와우산로17길 19-18</td>\n",
       "      <td>02-3143-7312</td>\n",
       "      <td>http://www.aadesignmuseum.com/</td>\n",
       "      <td>2</td>\n",
       "      <td>N</td>\n",
       "      <td>N</td>\n",
       "      <td>N</td>\n",
       "      <td>N</td>\n",
       "      <td>N</td>\n",
       "      <td>N</td>\n",
       "      <td>N</td>\n",
       "      <td>N</td>\n",
       "      <td>N</td>\n",
       "      <td>N</td>\n",
       "      <td>N</td>\n",
       "      <td>N</td>\n",
       "    </tr>\n",
       "    <tr>\n",
       "      <th>1</th>\n",
       "      <td>98</td>\n",
       "      <td>포스코미술관</td>\n",
       "      <td>강남구</td>\n",
       "      <td>테헤란로 440 포스코센터</td>\n",
       "      <td>02-3457-1665</td>\n",
       "      <td>http://www.poscoartmuseum.org/</td>\n",
       "      <td>0</td>\n",
       "      <td>Y</td>\n",
       "      <td>Y</td>\n",
       "      <td>N</td>\n",
       "      <td>Y</td>\n",
       "      <td>Y</td>\n",
       "      <td>N</td>\n",
       "      <td>N</td>\n",
       "      <td>N</td>\n",
       "      <td>Y</td>\n",
       "      <td>N</td>\n",
       "      <td>N</td>\n",
       "      <td>N</td>\n",
       "    </tr>\n",
       "    <tr>\n",
       "      <th>2</th>\n",
       "      <td>19</td>\n",
       "      <td>서울대공원</td>\n",
       "      <td>중구</td>\n",
       "      <td>경기도 과천시 대공원광장로 102</td>\n",
       "      <td>02-500-7335</td>\n",
       "      <td>http://grandpark.seoul.go.kr/main.do</td>\n",
       "      <td>0</td>\n",
       "      <td>Y</td>\n",
       "      <td>Y</td>\n",
       "      <td>Y</td>\n",
       "      <td>Y</td>\n",
       "      <td>Y</td>\n",
       "      <td>N</td>\n",
       "      <td>N</td>\n",
       "      <td>Y</td>\n",
       "      <td>N</td>\n",
       "      <td>N</td>\n",
       "      <td>Y</td>\n",
       "      <td>Y</td>\n",
       "    </tr>\n",
       "    <tr>\n",
       "      <th>3</th>\n",
       "      <td>105</td>\n",
       "      <td>서울대학교 미술관MOA</td>\n",
       "      <td>관악구</td>\n",
       "      <td>관악로 1</td>\n",
       "      <td>02-880-9504</td>\n",
       "      <td>http://www.snumoa.org/</td>\n",
       "      <td>0</td>\n",
       "      <td>Y</td>\n",
       "      <td>Y</td>\n",
       "      <td>Y</td>\n",
       "      <td>Y</td>\n",
       "      <td>Y</td>\n",
       "      <td>N</td>\n",
       "      <td>N</td>\n",
       "      <td>N</td>\n",
       "      <td>N</td>\n",
       "      <td>N</td>\n",
       "      <td>N</td>\n",
       "      <td>Y</td>\n",
       "    </tr>\n",
       "    <tr>\n",
       "      <th>4</th>\n",
       "      <td>156</td>\n",
       "      <td>옹기민속박물관</td>\n",
       "      <td>도봉구</td>\n",
       "      <td>삼양로 574-41</td>\n",
       "      <td>02-900-0900</td>\n",
       "      <td>http://www.onggimuseum.org/</td>\n",
       "      <td>2</td>\n",
       "      <td>N</td>\n",
       "      <td>N</td>\n",
       "      <td>N</td>\n",
       "      <td>N</td>\n",
       "      <td>N</td>\n",
       "      <td>N</td>\n",
       "      <td>N</td>\n",
       "      <td>N</td>\n",
       "      <td>N</td>\n",
       "      <td>N</td>\n",
       "      <td>N</td>\n",
       "      <td>N</td>\n",
       "    </tr>\n",
       "    <tr>\n",
       "      <th>...</th>\n",
       "      <td>...</td>\n",
       "      <td>...</td>\n",
       "      <td>...</td>\n",
       "      <td>...</td>\n",
       "      <td>...</td>\n",
       "      <td>...</td>\n",
       "      <td>...</td>\n",
       "      <td>...</td>\n",
       "      <td>...</td>\n",
       "      <td>...</td>\n",
       "      <td>...</td>\n",
       "      <td>...</td>\n",
       "      <td>...</td>\n",
       "      <td>...</td>\n",
       "      <td>...</td>\n",
       "      <td>...</td>\n",
       "      <td>...</td>\n",
       "      <td>...</td>\n",
       "      <td>...</td>\n",
       "    </tr>\n",
       "    <tr>\n",
       "      <th>74</th>\n",
       "      <td>71</td>\n",
       "      <td>창의문</td>\n",
       "      <td>종로구</td>\n",
       "      <td>창의문로 118</td>\n",
       "      <td>02-730-9924</td>\n",
       "      <td>http://korean.visitseoul.net/attractions/창의문_/...</td>\n",
       "      <td>2</td>\n",
       "      <td>N</td>\n",
       "      <td>N</td>\n",
       "      <td>N</td>\n",
       "      <td>N</td>\n",
       "      <td>N</td>\n",
       "      <td>N</td>\n",
       "      <td>N</td>\n",
       "      <td>N</td>\n",
       "      <td>N</td>\n",
       "      <td>N</td>\n",
       "      <td>N</td>\n",
       "      <td>N</td>\n",
       "    </tr>\n",
       "    <tr>\n",
       "      <th>75</th>\n",
       "      <td>184</td>\n",
       "      <td>동림매듭박물관</td>\n",
       "      <td>종로구</td>\n",
       "      <td>북촌로12길 10</td>\n",
       "      <td>02-3673-2778</td>\n",
       "      <td>http://www.shimyoungmi.com/</td>\n",
       "      <td>2</td>\n",
       "      <td>Y</td>\n",
       "      <td>Y</td>\n",
       "      <td>Y</td>\n",
       "      <td>N</td>\n",
       "      <td>N</td>\n",
       "      <td>N</td>\n",
       "      <td>N</td>\n",
       "      <td>N</td>\n",
       "      <td>N</td>\n",
       "      <td>N</td>\n",
       "      <td>N</td>\n",
       "      <td>Y</td>\n",
       "    </tr>\n",
       "    <tr>\n",
       "      <th>76</th>\n",
       "      <td>189</td>\n",
       "      <td>춘원당 한방박물관</td>\n",
       "      <td>종로구</td>\n",
       "      <td>돈화문로 9길 27</td>\n",
       "      <td>02-3672-2005</td>\n",
       "      <td>http://www.cwdmuseum.com/</td>\n",
       "      <td>0</td>\n",
       "      <td>Y</td>\n",
       "      <td>Y</td>\n",
       "      <td>Y</td>\n",
       "      <td>Y</td>\n",
       "      <td>Y</td>\n",
       "      <td>N</td>\n",
       "      <td>N</td>\n",
       "      <td>N</td>\n",
       "      <td>N</td>\n",
       "      <td>N</td>\n",
       "      <td>N</td>\n",
       "      <td>Y</td>\n",
       "    </tr>\n",
       "    <tr>\n",
       "      <th>77</th>\n",
       "      <td>26</td>\n",
       "      <td>국립4.19민주묘지</td>\n",
       "      <td>강북구</td>\n",
       "      <td>4.19로8길 17</td>\n",
       "      <td>02-996-0419</td>\n",
       "      <td>http://419.mpva.go.kr/</td>\n",
       "      <td>0</td>\n",
       "      <td>Y</td>\n",
       "      <td>Y</td>\n",
       "      <td>Y</td>\n",
       "      <td>Y</td>\n",
       "      <td>Y</td>\n",
       "      <td>N</td>\n",
       "      <td>N</td>\n",
       "      <td>N</td>\n",
       "      <td>N</td>\n",
       "      <td>N</td>\n",
       "      <td>Y</td>\n",
       "      <td>Y</td>\n",
       "    </tr>\n",
       "    <tr>\n",
       "      <th>78</th>\n",
       "      <td>81</td>\n",
       "      <td>환구단</td>\n",
       "      <td>중구</td>\n",
       "      <td>소공로 106</td>\n",
       "      <td>02-3396-5880</td>\n",
       "      <td>http://korean.visitseoul.net/attractions/%20%2...</td>\n",
       "      <td>0</td>\n",
       "      <td>N</td>\n",
       "      <td>N</td>\n",
       "      <td>N</td>\n",
       "      <td>N</td>\n",
       "      <td>N</td>\n",
       "      <td>N</td>\n",
       "      <td>N</td>\n",
       "      <td>N</td>\n",
       "      <td>N</td>\n",
       "      <td>N</td>\n",
       "      <td>N</td>\n",
       "      <td>N</td>\n",
       "    </tr>\n",
       "  </tbody>\n",
       "</table>\n",
       "<p>79 rows × 19 columns</p>\n",
       "</div>"
      ],
      "text/plain": [
       "    고유번호             시설명  담당구                  주소           연락처  \\\n",
       "0     22  aA갤러리_aA디자인뮤지엄  마포구       와우산로17길 19-18  02-3143-7312   \n",
       "1     98          포스코미술관  강남구      테헤란로 440 포스코센터  02-3457-1665   \n",
       "2     19           서울대공원   중구  경기도 과천시 대공원광장로 102   02-500-7335   \n",
       "3    105    서울대학교 미술관MOA  관악구               관악로 1   02-880-9504   \n",
       "4    156         옹기민속박물관  도봉구          삼양로 574-41   02-900-0900   \n",
       "..   ...             ...  ...                 ...           ...   \n",
       "74    71             창의문  종로구            창의문로 118   02-730-9924   \n",
       "75   184         동림매듭박물관  종로구           북촌로12길 10  02-3673-2778   \n",
       "76   189       춘원당 한방박물관  종로구          돈화문로 9길 27  02-3672-2005   \n",
       "77    26      국립4.19민주묘지  강북구          4.19로8길 17   02-996-0419   \n",
       "78    81             환구단   중구             소공로 106  02-3396-5880   \n",
       "\n",
       "                                                 홈페이지  추천수 주출입구 접근로 여부  \\\n",
       "0                      http://www.aadesignmuseum.com/    2           N   \n",
       "1                      http://www.poscoartmuseum.org/    0           Y   \n",
       "2                http://grandpark.seoul.go.kr/main.do    0           Y   \n",
       "3                              http://www.snumoa.org/    0           Y   \n",
       "4                         http://www.onggimuseum.org/    2           N   \n",
       "..                                                ...  ...         ...   \n",
       "74  http://korean.visitseoul.net/attractions/창의문_/...    2           N   \n",
       "75                        http://www.shimyoungmi.com/    2           Y   \n",
       "76                          http://www.cwdmuseum.com/    0           Y   \n",
       "77                             http://419.mpva.go.kr/    0           Y   \n",
       "78  http://korean.visitseoul.net/attractions/%20%2...    0           N   \n",
       "\n",
       "   장애인 전용 주차구역 여부 주출입구 높이차이 제거 여부 장애인용 승강기 여부 장애인 화장실 여부 장애인용 객실 이용가능 여부  \\\n",
       "0               N               N           N          N               N   \n",
       "1               Y               N           Y          Y               N   \n",
       "2               Y               Y           Y          Y               N   \n",
       "3               Y               Y           Y          Y               N   \n",
       "4               N               N           N          N               N   \n",
       "..            ...             ...         ...        ...             ...   \n",
       "74              N               N           N          N               N   \n",
       "75              Y               Y           N          N               N   \n",
       "76              Y               Y           Y          Y               N   \n",
       "77              Y               Y           Y          Y               N   \n",
       "78              N               N           N          N               N   \n",
       "\n",
       "   장애인용 관람석 이용가능 여부 장애인 매표소 여부 시각장애인 편의서비스 여부 청각장애인 편의서비스 여부 안내 서비스 여부  \\\n",
       "0                 N          N              N              N         N   \n",
       "1                 N          N              Y              N         N   \n",
       "2                 N          Y              N              N         Y   \n",
       "3                 N          N              N              N         N   \n",
       "4                 N          N              N              N         N   \n",
       "..              ...        ...            ...            ...       ...   \n",
       "74                N          N              N              N         N   \n",
       "75                N          N              N              N         N   \n",
       "76                N          N              N              N         N   \n",
       "77                N          N              N              N         Y   \n",
       "78                N          N              N              N         N   \n",
       "\n",
       "   휠체어 대여 여부  \n",
       "0          N  \n",
       "1          N  \n",
       "2          Y  \n",
       "3          Y  \n",
       "4          N  \n",
       "..       ...  \n",
       "74         N  \n",
       "75         Y  \n",
       "76         Y  \n",
       "77         Y  \n",
       "78         N  \n",
       "\n",
       "[79 rows x 19 columns]"
      ]
     },
     "execution_count": 6,
     "metadata": {},
     "output_type": "execute_result"
    }
   ],
   "source": [
    "df_tourspot=pd.read_csv('data/서울특별시 장애인 관광지 정보.csv')\n",
    "df_tourspot"
   ]
  },
  {
   "cell_type": "code",
   "execution_count": 7,
   "metadata": {},
   "outputs": [
    {
     "data": {
      "text/plain": [
       "Index(['고유번호', '시설명', '담당구', '주소', '연락처', '홈페이지', '추천수', '주출입구 접근로 여부',\n",
       "       '장애인 전용 주차구역 여부', '주출입구 높이차이 제거 여부', '장애인용 승강기 여부', '장애인 화장실 여부',\n",
       "       '장애인용 객실 이용가능 여부', '장애인용 관람석 이용가능 여부', '장애인 매표소 여부', '시각장애인 편의서비스 여부',\n",
       "       '청각장애인 편의서비스 여부', '안내 서비스 여부', '휠체어 대여 여부'],\n",
       "      dtype='object')"
      ]
     },
     "execution_count": 7,
     "metadata": {},
     "output_type": "execute_result"
    }
   ],
   "source": [
    "df_tourspot.columns"
   ]
  },
  {
   "cell_type": "code",
   "execution_count": 8,
   "metadata": {},
   "outputs": [],
   "source": [
    "import seaborn as sns"
   ]
  },
  {
   "cell_type": "code",
   "execution_count": 9,
   "metadata": {},
   "outputs": [],
   "source": [
    "from matplotlib import font_manager,rc\n",
    "import matplotlib\n",
    "font_location='c:/Windows/fonts/malgun.ttf'\n",
    "font_name=font_manager.FontProperties(fname=font_location).get_name()\n",
    "matplotlib.rc('font',family=font_name)"
   ]
  },
  {
   "cell_type": "code",
   "execution_count": 10,
   "metadata": {},
   "outputs": [
    {
     "data": {
      "text/plain": [
       "<AxesSubplot:xlabel='휠체어 대여 여부', ylabel='count'>"
      ]
     },
     "execution_count": 10,
     "metadata": {},
     "output_type": "execute_result"
    },
    {
     "data": {
      "image/png": "[encoded data removed]",
      "text/plain": [
       "<Figure size 432x288 with 1 Axes>"
      ]
     },
     "metadata": {
      "needs_background": "light"
     },
     "output_type": "display_data"
    }
   ],
   "source": [
    "sns.set_palette('pastel')\n",
    "sns.countplot(x='휠체어 대여 여부',data=df_tourspot)"
   ]
  },
  {
   "cell_type": "code",
   "execution_count": 11,
   "metadata": {},
   "outputs": [
    {
     "data": {
      "text/plain": [
       "<AxesSubplot:xlabel='count', ylabel='장애인 전용 주차구역 여부'>"
      ]
     },
     "execution_count": 11,
     "metadata": {},
     "output_type": "execute_result"
    },
    {
     "data": {
      "image/png": "[encoded data removed]",
      "text/plain": [
       "<Figure size 432x288 with 1 Axes>"
      ]
     },
     "metadata": {
      "needs_background": "light"
     },
     "output_type": "display_data"
    }
   ],
   "source": [
    "sns.set_palette('pastel')\n",
    "sns.countplot(y='장애인 전용 주차구역 여부',data=df_tourspot)"
   ]
  },
  {
   "cell_type": "code",
   "execution_count": null,
   "metadata": {},
   "outputs": [],
   "source": []
  },
  {
   "cell_type": "code",
   "execution_count": 10,
   "metadata": {},
   "outputs": [
    {
     "data": {
      "text/plain": [
       "Text(0.5, 1.0, '지역구별 장애인 관광지')"
      ]
     },
     "execution_count": 10,
     "metadata": {},
     "output_type": "execute_result"
    },
    {
     "data": {
      "image/png": "[encoded data removed]",
      "text/plain": [
       "<Figure size 1080x576 with 1 Axes>"
      ]
     },
     "metadata": {
      "needs_background": "light"
     },
     "output_type": "display_data"
    }
   ],
   "source": [
    "plt.figure(figsize=(15,8))\n",
    "plt.bar(df_tourspot['담당구'].value_counts().head(10).index, df_tourspot['담당구'].value_counts().head(10).values )\n",
    "plt.xlabel('담당 구청', size = 25)\n",
    "plt.ylabel('Values', size = 25)\n",
    "plt.title('지역구별 장애인 관광지', size = 25)"
   ]
  },
  {
   "cell_type": "code",
   "execution_count": null,
   "metadata": {},
   "outputs": [],
   "source": []
  }
 ],
 "metadata": {
  "kernelspec": {
   "display_name": "Python 3",
   "language": "python",
   "name": "python3"
  },
  "language_info": {
   "codemirror_mode": {
    "name": "ipython",
    "version": 3
   },
   "file_extension": ".py",
   "mimetype": "text/x-python",
   "name": "python",
   "nbconvert_exporter": "python",
   "pygments_lexer": "ipython3",
   "version": "3.8.5"
  }
 },
 "nbformat": 4,
 "nbformat_minor": 4
}
