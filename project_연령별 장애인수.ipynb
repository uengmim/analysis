{
 "cells": [
  {
   "cell_type": "code",
   "execution_count": 1,
   "metadata": {},
   "outputs": [],
   "source": [
    "import pandas as pd\n",
    "import requests\n",
    "import xmltodict\n",
    "import json\n",
    "#국가통계포털"
   ]
  },
  {
   "cell_type": "code",
   "execution_count": 2,
   "metadata": {},
   "outputs": [],
   "source": [
    "url='https://openapi.gg.go.kr/Ggregistdspsntypeage'"
   ]
  },
  {
   "cell_type": "code",
   "execution_count": 12,
   "metadata": {},
   "outputs": [
    {
     "data": {
      "text/plain": [
       "<Response [200]>"
      ]
     },
     "execution_count": 12,
     "metadata": {},
     "output_type": "execute_result"
    }
   ],
   "source": [
    "requests.get(url)"
   ]
  },
  {
   "cell_type": "code",
   "execution_count": 14,
   "metadata": {},
   "outputs": [
    {
     "data": {
      "text/plain": [
       "'<?xml version=\"1.0\" encoding=\"UTF-8\"?>\\n\\n<Ggregistdspsntypeage>\\n  <head>\\n    <list_total_count>120</list_total_count>\\n    <RESULT>\\n      <CODE>INFO-000</CODE>\\n      <MESSAGE>정상 처리되었습니다.</MESSAGE>\\n    </RESULT>\\n    <api_version>1.0v</api_version>\\n  </head>\\n  <row>\\n    <STD_YY>2020</STD_YY>\\n    <OBSTCL_TYPE>지체</OBSTCL_TYPE>\\n    <TOTSUM>267043</TOTSUM>\\n    <AGE10_UD_DSPSN_CNT>215</AGE10_UD_DSPSN_CNT>\\n    <TYPAGE10_DSPSN_CNT>866</TYPAGE10_DSPSN_CNT>\\n    <TYPAGE20_DSPSN_CNT>3065</TYPAGE20_DSPSN_CNT>\\n    <AGE90_ABOVE_DSPSN_CNT>3264</AGE90_ABOVE_DSPSN_CNT>\\n    <TYPAGE40_DSPSN_CNT>28833</TYPAGE40_DSPSN_CNT>\\n    <TYPAGE50_DSPSN_CNT>59347</TYPAGE50_DSPSN_CNT>\\n    <TYPAGE60_DSPSN_CNT>72566</TYPAGE60_DSPSN_CNT>\\n    <TYPAGE70_DSPSN_CNT>57655</TYPAGE70_DSPSN_CNT>\\n    <TYPAGE80_DSPSN_CNT>31095</TYPAGE80_DSPSN_CNT>\\n    <TYPAGE30_DSPSN_CNT>10137</TYPAGE30_DSPSN_CNT>\\n  </row>\\n  <row>\\n    <STD_YY>2020</STD_YY>\\n    <OBSTCL_TYPE>시각</OBSTCL_TYPE>\\n    <TOTSUM>54212</TOTSUM>\\n    <AGE10_UD_DSPSN_CNT>195</AGE10_UD_DSPSN_CNT>\\n    <TYPAGE10_DSPSN_CNT>523</TYPAGE10_DSPSN_CNT>\\n    <TYPAGE20_DSPSN_CNT>1395</TYPAGE20_DSPSN_CNT>\\n    <AGE90_ABOVE_DSPSN_CNT>1140</AGE90_ABOVE_DSPSN_CNT>\\n    <TYPAGE40_DSPSN_CNT>6495</TYPAGE40_DSPSN_CNT>\\n    <TYPAGE50_DSPSN_CNT>10114</TYPAGE50_DSPSN_CNT>\\n    <TYPAGE60_DSPSN_CNT>11968</TYPAGE60_DSPSN_CNT>\\n    <TYPAGE70_DSPSN_CNT>12171</TYPAGE70_DSPSN_CNT>\\n    <TYPAGE80_DSPSN_CNT>7195</TYPAGE80_DSPSN_CNT>\\n    <TYPAGE30_DSPSN_CNT>3016</TYPAGE30_DSPSN_CNT>\\n  </row>\\n  <row>\\n    <STD_YY>2020</STD_YY>\\n    <OBSTCL_TYPE>청각</OBSTCL_TYPE>\\n    <TOTSUM>78042</TOTSUM>\\n    <AGE10_UD_DSPSN_CNT>494</AGE10_UD_DSPSN_CNT>\\n    <TYPAGE10_DSPSN_CNT>727</TYPAGE10_DSPSN_CNT>\\n    <TYPAGE20_DSPSN_CNT>1226</TYPAGE20_DSPSN_CNT>\\n    <AGE90_ABOVE_DSPSN_CNT>5299</AGE90_ABOVE_DSPSN_CNT>\\n    <TYPAGE40_DSPSN_CNT>3148</TYPAGE40_DSPSN_CNT>\\n    <TYPAGE50_DSPSN_CNT>6589</TYPAGE50_DSPSN_CNT>\\n    <TYPAGE60_DSPSN_CNT>12418</TYPAGE60_DSPSN_CNT>\\n    <TYPAGE70_DSPSN_CNT>22456</TYPAGE70_DSPSN_CNT>\\n    <TYPAGE80_DSPSN_CNT>23995</TYPAGE80_DSPSN_CNT>\\n    <TYPAGE30_DSPSN_CNT>1690</TYPAGE30_DSPSN_CNT>\\n  </row>\\n  <row>\\n    <STD_YY>2020</STD_YY>\\n    <OBSTCL_TYPE>언어</OBSTCL_TYPE>\\n    <TOTSUM>5168</TOTSUM>\\n    <AGE10_UD_DSPSN_CNT>1177</AGE10_UD_DSPSN_CNT>\\n    <TYPAGE10_DSPSN_CNT>159</TYPAGE10_DSPSN_CNT>\\n    <TYPAGE20_DSPSN_CNT>111</TYPAGE20_DSPSN_CNT>\\n    <AGE90_ABOVE_DSPSN_CNT>22</AGE90_ABOVE_DSPSN_CNT>\\n    <TYPAGE40_DSPSN_CNT>475</TYPAGE40_DSPSN_CNT>\\n    <TYPAGE50_DSPSN_CNT>848</TYPAGE50_DSPSN_CNT>\\n    <TYPAGE60_DSPSN_CNT>1055</TYPAGE60_DSPSN_CNT>\\n    <TYPAGE70_DSPSN_CNT>798</TYPAGE70_DSPSN_CNT>\\n    <TYPAGE80_DSPSN_CNT>320</TYPAGE80_DSPSN_CNT>\\n    <TYPAGE30_DSPSN_CNT>203</TYPAGE30_DSPSN_CNT>\\n  </row>\\n  <row>\\n    <STD_YY>2020</STD_YY>\\n    <OBSTCL_TYPE>지적</OBSTCL_TYPE>\\n    <TOTSUM>45883</TOTSUM>\\n    <AGE10_UD_DSPSN_CNT>2893</AGE10_UD_DSPSN_CNT>\\n    <TYPAGE10_DSPSN_CNT>8282</TYPAGE10_DSPSN_CNT>\\n    <TYPAGE20_DSPSN_CNT>12327</TYPAGE20_DSPSN_CNT>\\n    <AGE90_ABOVE_DSPSN_CNT>10</AGE90_ABOVE_DSPSN_CNT>\\n    <TYPAGE40_DSPSN_CNT>6090</TYPAGE40_DSPSN_CNT>\\n    <TYPAGE50_DSPSN_CNT>4897</TYPAGE50_DSPSN_CNT>\\n    <TYPAGE60_DSPSN_CNT>2711</TYPAGE60_DSPSN_CNT>\\n    <TYPAGE70_DSPSN_CNT>698</TYPAGE70_DSPSN_CNT>\\n    <TYPAGE80_DSPSN_CNT>194</TYPAGE80_DSPSN_CNT>\\n    <TYPAGE30_DSPSN_CNT>7781</TYPAGE30_DSPSN_CNT>\\n  </row>\\n</Ggregistdspsntypeage>\\n\\n'"
      ]
     },
     "execution_count": 14,
     "metadata": {},
     "output_type": "execute_result"
    }
   ],
   "source": [
    "requests.get(url).text"
   ]
  },
  {
   "cell_type": "code",
   "execution_count": 3,
   "metadata": {},
   "outputs": [
    {
     "data": {
      "text/plain": [
       "OrderedDict([('Ggregistdspsntypeage',\n",
       "              OrderedDict([('head',\n",
       "                            OrderedDict([('list_total_count', '120'),\n",
       "                                         ('RESULT',\n",
       "                                          OrderedDict([('CODE', 'INFO-000'),\n",
       "                                                       ('MESSAGE',\n",
       "                                                        '정상 처리되었습니다.')])),\n",
       "                                         ('api_version', '1.0v')])),\n",
       "                           ('row',\n",
       "                            [OrderedDict([('STD_YY', '2020'),\n",
       "                                          ('OBSTCL_TYPE', '지체'),\n",
       "                                          ('TOTSUM', '267043'),\n",
       "                                          ('AGE10_UD_DSPSN_CNT', '215'),\n",
       "                                          ('TYPAGE10_DSPSN_CNT', '866'),\n",
       "                                          ('TYPAGE20_DSPSN_CNT', '3065'),\n",
       "                                          ('AGE90_ABOVE_DSPSN_CNT', '3264'),\n",
       "                                          ('TYPAGE40_DSPSN_CNT', '28833'),\n",
       "                                          ('TYPAGE50_DSPSN_CNT', '59347'),\n",
       "                                          ('TYPAGE60_DSPSN_CNT', '72566'),\n",
       "                                          ('TYPAGE70_DSPSN_CNT', '57655'),\n",
       "                                          ('TYPAGE80_DSPSN_CNT', '31095'),\n",
       "                                          ('TYPAGE30_DSPSN_CNT', '10137')]),\n",
       "                             OrderedDict([('STD_YY', '2020'),\n",
       "                                          ('OBSTCL_TYPE', '시각'),\n",
       "                                          ('TOTSUM', '54212'),\n",
       "                                          ('AGE10_UD_DSPSN_CNT', '195'),\n",
       "                                          ('TYPAGE10_DSPSN_CNT', '523'),\n",
       "                                          ('TYPAGE20_DSPSN_CNT', '1395'),\n",
       "                                          ('AGE90_ABOVE_DSPSN_CNT', '1140'),\n",
       "                                          ('TYPAGE40_DSPSN_CNT', '6495'),\n",
       "                                          ('TYPAGE50_DSPSN_CNT', '10114'),\n",
       "                                          ('TYPAGE60_DSPSN_CNT', '11968'),\n",
       "                                          ('TYPAGE70_DSPSN_CNT', '12171'),\n",
       "                                          ('TYPAGE80_DSPSN_CNT', '7195'),\n",
       "                                          ('TYPAGE30_DSPSN_CNT', '3016')]),\n",
       "                             OrderedDict([('STD_YY', '2020'),\n",
       "                                          ('OBSTCL_TYPE', '청각'),\n",
       "                                          ('TOTSUM', '78042'),\n",
       "                                          ('AGE10_UD_DSPSN_CNT', '494'),\n",
       "                                          ('TYPAGE10_DSPSN_CNT', '727'),\n",
       "                                          ('TYPAGE20_DSPSN_CNT', '1226'),\n",
       "                                          ('AGE90_ABOVE_DSPSN_CNT', '5299'),\n",
       "                                          ('TYPAGE40_DSPSN_CNT', '3148'),\n",
       "                                          ('TYPAGE50_DSPSN_CNT', '6589'),\n",
       "                                          ('TYPAGE60_DSPSN_CNT', '12418'),\n",
       "                                          ('TYPAGE70_DSPSN_CNT', '22456'),\n",
       "                                          ('TYPAGE80_DSPSN_CNT', '23995'),\n",
       "                                          ('TYPAGE30_DSPSN_CNT', '1690')]),\n",
       "                             OrderedDict([('STD_YY', '2020'),\n",
       "                                          ('OBSTCL_TYPE', '언어'),\n",
       "                                          ('TOTSUM', '5168'),\n",
       "                                          ('AGE10_UD_DSPSN_CNT', '1177'),\n",
       "                                          ('TYPAGE10_DSPSN_CNT', '159'),\n",
       "                                          ('TYPAGE20_DSPSN_CNT', '111'),\n",
       "                                          ('AGE90_ABOVE_DSPSN_CNT', '22'),\n",
       "                                          ('TYPAGE40_DSPSN_CNT', '475'),\n",
       "                                          ('TYPAGE50_DSPSN_CNT', '848'),\n",
       "                                          ('TYPAGE60_DSPSN_CNT', '1055'),\n",
       "                                          ('TYPAGE70_DSPSN_CNT', '798'),\n",
       "                                          ('TYPAGE80_DSPSN_CNT', '320'),\n",
       "                                          ('TYPAGE30_DSPSN_CNT', '203')]),\n",
       "                             OrderedDict([('STD_YY', '2020'),\n",
       "                                          ('OBSTCL_TYPE', '지적'),\n",
       "                                          ('TOTSUM', '45883'),\n",
       "                                          ('AGE10_UD_DSPSN_CNT', '2893'),\n",
       "                                          ('TYPAGE10_DSPSN_CNT', '8282'),\n",
       "                                          ('TYPAGE20_DSPSN_CNT', '12327'),\n",
       "                                          ('AGE90_ABOVE_DSPSN_CNT', '10'),\n",
       "                                          ('TYPAGE40_DSPSN_CNT', '6090'),\n",
       "                                          ('TYPAGE50_DSPSN_CNT', '4897'),\n",
       "                                          ('TYPAGE60_DSPSN_CNT', '2711'),\n",
       "                                          ('TYPAGE70_DSPSN_CNT', '698'),\n",
       "                                          ('TYPAGE80_DSPSN_CNT', '194'),\n",
       "                                          ('TYPAGE30_DSPSN_CNT',\n",
       "                                           '7781')])])]))])"
      ]
     },
     "execution_count": 3,
     "metadata": {},
     "output_type": "execute_result"
    }
   ],
   "source": [
    "xmltodict.parse(requests.get(url).text)"
   ]
  },
  {
   "cell_type": "code",
   "execution_count": 4,
   "metadata": {},
   "outputs": [
    {
     "data": {
      "text/plain": [
       "'{\"Ggregistdspsntypeage\": {\"head\": {\"list_total_count\": \"120\", \"RESULT\": {\"CODE\": \"INFO-000\", \"MESSAGE\": \"\\\\uc815\\\\uc0c1 \\\\ucc98\\\\ub9ac\\\\ub418\\\\uc5c8\\\\uc2b5\\\\ub2c8\\\\ub2e4.\"}, \"api_version\": \"1.0v\"}, \"row\": [{\"STD_YY\": \"2020\", \"OBSTCL_TYPE\": \"\\\\uc9c0\\\\uccb4\", \"TOTSUM\": \"267043\", \"AGE10_UD_DSPSN_CNT\": \"215\", \"TYPAGE10_DSPSN_CNT\": \"866\", \"TYPAGE20_DSPSN_CNT\": \"3065\", \"AGE90_ABOVE_DSPSN_CNT\": \"3264\", \"TYPAGE40_DSPSN_CNT\": \"28833\", \"TYPAGE50_DSPSN_CNT\": \"59347\", \"TYPAGE60_DSPSN_CNT\": \"72566\", \"TYPAGE70_DSPSN_CNT\": \"57655\", \"TYPAGE80_DSPSN_CNT\": \"31095\", \"TYPAGE30_DSPSN_CNT\": \"10137\"}, {\"STD_YY\": \"2020\", \"OBSTCL_TYPE\": \"\\\\uc2dc\\\\uac01\", \"TOTSUM\": \"54212\", \"AGE10_UD_DSPSN_CNT\": \"195\", \"TYPAGE10_DSPSN_CNT\": \"523\", \"TYPAGE20_DSPSN_CNT\": \"1395\", \"AGE90_ABOVE_DSPSN_CNT\": \"1140\", \"TYPAGE40_DSPSN_CNT\": \"6495\", \"TYPAGE50_DSPSN_CNT\": \"10114\", \"TYPAGE60_DSPSN_CNT\": \"11968\", \"TYPAGE70_DSPSN_CNT\": \"12171\", \"TYPAGE80_DSPSN_CNT\": \"7195\", \"TYPAGE30_DSPSN_CNT\": \"3016\"}, {\"STD_YY\": \"2020\", \"OBSTCL_TYPE\": \"\\\\uccad\\\\uac01\", \"TOTSUM\": \"78042\", \"AGE10_UD_DSPSN_CNT\": \"494\", \"TYPAGE10_DSPSN_CNT\": \"727\", \"TYPAGE20_DSPSN_CNT\": \"1226\", \"AGE90_ABOVE_DSPSN_CNT\": \"5299\", \"TYPAGE40_DSPSN_CNT\": \"3148\", \"TYPAGE50_DSPSN_CNT\": \"6589\", \"TYPAGE60_DSPSN_CNT\": \"12418\", \"TYPAGE70_DSPSN_CNT\": \"22456\", \"TYPAGE80_DSPSN_CNT\": \"23995\", \"TYPAGE30_DSPSN_CNT\": \"1690\"}, {\"STD_YY\": \"2020\", \"OBSTCL_TYPE\": \"\\\\uc5b8\\\\uc5b4\", \"TOTSUM\": \"5168\", \"AGE10_UD_DSPSN_CNT\": \"1177\", \"TYPAGE10_DSPSN_CNT\": \"159\", \"TYPAGE20_DSPSN_CNT\": \"111\", \"AGE90_ABOVE_DSPSN_CNT\": \"22\", \"TYPAGE40_DSPSN_CNT\": \"475\", \"TYPAGE50_DSPSN_CNT\": \"848\", \"TYPAGE60_DSPSN_CNT\": \"1055\", \"TYPAGE70_DSPSN_CNT\": \"798\", \"TYPAGE80_DSPSN_CNT\": \"320\", \"TYPAGE30_DSPSN_CNT\": \"203\"}, {\"STD_YY\": \"2020\", \"OBSTCL_TYPE\": \"\\\\uc9c0\\\\uc801\", \"TOTSUM\": \"45883\", \"AGE10_UD_DSPSN_CNT\": \"2893\", \"TYPAGE10_DSPSN_CNT\": \"8282\", \"TYPAGE20_DSPSN_CNT\": \"12327\", \"AGE90_ABOVE_DSPSN_CNT\": \"10\", \"TYPAGE40_DSPSN_CNT\": \"6090\", \"TYPAGE50_DSPSN_CNT\": \"4897\", \"TYPAGE60_DSPSN_CNT\": \"2711\", \"TYPAGE70_DSPSN_CNT\": \"698\", \"TYPAGE80_DSPSN_CNT\": \"194\", \"TYPAGE30_DSPSN_CNT\": \"7781\"}]}}'"
      ]
     },
     "execution_count": 4,
     "metadata": {},
     "output_type": "execute_result"
    }
   ],
   "source": [
    "json.dumps(xmltodict.parse(requests.get(url).text))"
   ]
  },
  {
   "cell_type": "code",
   "execution_count": 5,
   "metadata": {},
   "outputs": [
    {
     "data": {
      "text/plain": [
       "{'Ggregistdspsntypeage': {'head': {'list_total_count': '120',\n",
       "   'RESULT': {'CODE': 'INFO-000', 'MESSAGE': '정상 처리되었습니다.'},\n",
       "   'api_version': '1.0v'},\n",
       "  'row': [{'STD_YY': '2020',\n",
       "    'OBSTCL_TYPE': '지체',\n",
       "    'TOTSUM': '267043',\n",
       "    'AGE10_UD_DSPSN_CNT': '215',\n",
       "    'TYPAGE10_DSPSN_CNT': '866',\n",
       "    'TYPAGE20_DSPSN_CNT': '3065',\n",
       "    'AGE90_ABOVE_DSPSN_CNT': '3264',\n",
       "    'TYPAGE40_DSPSN_CNT': '28833',\n",
       "    'TYPAGE50_DSPSN_CNT': '59347',\n",
       "    'TYPAGE60_DSPSN_CNT': '72566',\n",
       "    'TYPAGE70_DSPSN_CNT': '57655',\n",
       "    'TYPAGE80_DSPSN_CNT': '31095',\n",
       "    'TYPAGE30_DSPSN_CNT': '10137'},\n",
       "   {'STD_YY': '2020',\n",
       "    'OBSTCL_TYPE': '시각',\n",
       "    'TOTSUM': '54212',\n",
       "    'AGE10_UD_DSPSN_CNT': '195',\n",
       "    'TYPAGE10_DSPSN_CNT': '523',\n",
       "    'TYPAGE20_DSPSN_CNT': '1395',\n",
       "    'AGE90_ABOVE_DSPSN_CNT': '1140',\n",
       "    'TYPAGE40_DSPSN_CNT': '6495',\n",
       "    'TYPAGE50_DSPSN_CNT': '10114',\n",
       "    'TYPAGE60_DSPSN_CNT': '11968',\n",
       "    'TYPAGE70_DSPSN_CNT': '12171',\n",
       "    'TYPAGE80_DSPSN_CNT': '7195',\n",
       "    'TYPAGE30_DSPSN_CNT': '3016'},\n",
       "   {'STD_YY': '2020',\n",
       "    'OBSTCL_TYPE': '청각',\n",
       "    'TOTSUM': '78042',\n",
       "    'AGE10_UD_DSPSN_CNT': '494',\n",
       "    'TYPAGE10_DSPSN_CNT': '727',\n",
       "    'TYPAGE20_DSPSN_CNT': '1226',\n",
       "    'AGE90_ABOVE_DSPSN_CNT': '5299',\n",
       "    'TYPAGE40_DSPSN_CNT': '3148',\n",
       "    'TYPAGE50_DSPSN_CNT': '6589',\n",
       "    'TYPAGE60_DSPSN_CNT': '12418',\n",
       "    'TYPAGE70_DSPSN_CNT': '22456',\n",
       "    'TYPAGE80_DSPSN_CNT': '23995',\n",
       "    'TYPAGE30_DSPSN_CNT': '1690'},\n",
       "   {'STD_YY': '2020',\n",
       "    'OBSTCL_TYPE': '언어',\n",
       "    'TOTSUM': '5168',\n",
       "    'AGE10_UD_DSPSN_CNT': '1177',\n",
       "    'TYPAGE10_DSPSN_CNT': '159',\n",
       "    'TYPAGE20_DSPSN_CNT': '111',\n",
       "    'AGE90_ABOVE_DSPSN_CNT': '22',\n",
       "    'TYPAGE40_DSPSN_CNT': '475',\n",
       "    'TYPAGE50_DSPSN_CNT': '848',\n",
       "    'TYPAGE60_DSPSN_CNT': '1055',\n",
       "    'TYPAGE70_DSPSN_CNT': '798',\n",
       "    'TYPAGE80_DSPSN_CNT': '320',\n",
       "    'TYPAGE30_DSPSN_CNT': '203'},\n",
       "   {'STD_YY': '2020',\n",
       "    'OBSTCL_TYPE': '지적',\n",
       "    'TOTSUM': '45883',\n",
       "    'AGE10_UD_DSPSN_CNT': '2893',\n",
       "    'TYPAGE10_DSPSN_CNT': '8282',\n",
       "    'TYPAGE20_DSPSN_CNT': '12327',\n",
       "    'AGE90_ABOVE_DSPSN_CNT': '10',\n",
       "    'TYPAGE40_DSPSN_CNT': '6090',\n",
       "    'TYPAGE50_DSPSN_CNT': '4897',\n",
       "    'TYPAGE60_DSPSN_CNT': '2711',\n",
       "    'TYPAGE70_DSPSN_CNT': '698',\n",
       "    'TYPAGE80_DSPSN_CNT': '194',\n",
       "    'TYPAGE30_DSPSN_CNT': '7781'}]}}"
      ]
     },
     "execution_count": 5,
     "metadata": {},
     "output_type": "execute_result"
    }
   ],
   "source": [
    "data=json.loads(json.dumps(xmltodict.parse(requests.get(url).text)))\n",
    "data"
   ]
  },
  {
   "cell_type": "code",
   "execution_count": 6,
   "metadata": {},
   "outputs": [
    {
     "data": {
      "text/plain": [
       "[{'STD_YY': '2020',\n",
       "  'OBSTCL_TYPE': '지체',\n",
       "  'TOTSUM': '267043',\n",
       "  'AGE10_UD_DSPSN_CNT': '215',\n",
       "  'TYPAGE10_DSPSN_CNT': '866',\n",
       "  'TYPAGE20_DSPSN_CNT': '3065',\n",
       "  'AGE90_ABOVE_DSPSN_CNT': '3264',\n",
       "  'TYPAGE40_DSPSN_CNT': '28833',\n",
       "  'TYPAGE50_DSPSN_CNT': '59347',\n",
       "  'TYPAGE60_DSPSN_CNT': '72566',\n",
       "  'TYPAGE70_DSPSN_CNT': '57655',\n",
       "  'TYPAGE80_DSPSN_CNT': '31095',\n",
       "  'TYPAGE30_DSPSN_CNT': '10137'},\n",
       " {'STD_YY': '2020',\n",
       "  'OBSTCL_TYPE': '시각',\n",
       "  'TOTSUM': '54212',\n",
       "  'AGE10_UD_DSPSN_CNT': '195',\n",
       "  'TYPAGE10_DSPSN_CNT': '523',\n",
       "  'TYPAGE20_DSPSN_CNT': '1395',\n",
       "  'AGE90_ABOVE_DSPSN_CNT': '1140',\n",
       "  'TYPAGE40_DSPSN_CNT': '6495',\n",
       "  'TYPAGE50_DSPSN_CNT': '10114',\n",
       "  'TYPAGE60_DSPSN_CNT': '11968',\n",
       "  'TYPAGE70_DSPSN_CNT': '12171',\n",
       "  'TYPAGE80_DSPSN_CNT': '7195',\n",
       "  'TYPAGE30_DSPSN_CNT': '3016'},\n",
       " {'STD_YY': '2020',\n",
       "  'OBSTCL_TYPE': '청각',\n",
       "  'TOTSUM': '78042',\n",
       "  'AGE10_UD_DSPSN_CNT': '494',\n",
       "  'TYPAGE10_DSPSN_CNT': '727',\n",
       "  'TYPAGE20_DSPSN_CNT': '1226',\n",
       "  'AGE90_ABOVE_DSPSN_CNT': '5299',\n",
       "  'TYPAGE40_DSPSN_CNT': '3148',\n",
       "  'TYPAGE50_DSPSN_CNT': '6589',\n",
       "  'TYPAGE60_DSPSN_CNT': '12418',\n",
       "  'TYPAGE70_DSPSN_CNT': '22456',\n",
       "  'TYPAGE80_DSPSN_CNT': '23995',\n",
       "  'TYPAGE30_DSPSN_CNT': '1690'},\n",
       " {'STD_YY': '2020',\n",
       "  'OBSTCL_TYPE': '언어',\n",
       "  'TOTSUM': '5168',\n",
       "  'AGE10_UD_DSPSN_CNT': '1177',\n",
       "  'TYPAGE10_DSPSN_CNT': '159',\n",
       "  'TYPAGE20_DSPSN_CNT': '111',\n",
       "  'AGE90_ABOVE_DSPSN_CNT': '22',\n",
       "  'TYPAGE40_DSPSN_CNT': '475',\n",
       "  'TYPAGE50_DSPSN_CNT': '848',\n",
       "  'TYPAGE60_DSPSN_CNT': '1055',\n",
       "  'TYPAGE70_DSPSN_CNT': '798',\n",
       "  'TYPAGE80_DSPSN_CNT': '320',\n",
       "  'TYPAGE30_DSPSN_CNT': '203'},\n",
       " {'STD_YY': '2020',\n",
       "  'OBSTCL_TYPE': '지적',\n",
       "  'TOTSUM': '45883',\n",
       "  'AGE10_UD_DSPSN_CNT': '2893',\n",
       "  'TYPAGE10_DSPSN_CNT': '8282',\n",
       "  'TYPAGE20_DSPSN_CNT': '12327',\n",
       "  'AGE90_ABOVE_DSPSN_CNT': '10',\n",
       "  'TYPAGE40_DSPSN_CNT': '6090',\n",
       "  'TYPAGE50_DSPSN_CNT': '4897',\n",
       "  'TYPAGE60_DSPSN_CNT': '2711',\n",
       "  'TYPAGE70_DSPSN_CNT': '698',\n",
       "  'TYPAGE80_DSPSN_CNT': '194',\n",
       "  'TYPAGE30_DSPSN_CNT': '7781'}]"
      ]
     },
     "execution_count": 6,
     "metadata": {},
     "output_type": "execute_result"
    }
   ],
   "source": [
    "data['Ggregistdspsntypeage']['row']"
   ]
  },
  {
   "cell_type": "code",
   "execution_count": 7,
   "metadata": {},
   "outputs": [
    {
     "data": {
      "text/html": [
       "<div>\n",
       "<style scoped>\n",
       "    .dataframe tbody tr th:only-of-type {\n",
       "        vertical-align: middle;\n",
       "    }\n",
       "\n",
       "    .dataframe tbody tr th {\n",
       "        vertical-align: top;\n",
       "    }\n",
       "\n",
       "    .dataframe thead th {\n",
       "        text-align: right;\n",
       "    }\n",
       "</style>\n",
       "<table border=\"1\" class=\"dataframe\">\n",
       "  <thead>\n",
       "    <tr style=\"text-align: right;\">\n",
       "      <th></th>\n",
       "      <th>STD_YY</th>\n",
       "      <th>OBSTCL_TYPE</th>\n",
       "      <th>TOTSUM</th>\n",
       "      <th>AGE10_UD_DSPSN_CNT</th>\n",
       "      <th>TYPAGE10_DSPSN_CNT</th>\n",
       "      <th>TYPAGE20_DSPSN_CNT</th>\n",
       "      <th>AGE90_ABOVE_DSPSN_CNT</th>\n",
       "      <th>TYPAGE40_DSPSN_CNT</th>\n",
       "      <th>TYPAGE50_DSPSN_CNT</th>\n",
       "      <th>TYPAGE60_DSPSN_CNT</th>\n",
       "      <th>TYPAGE70_DSPSN_CNT</th>\n",
       "      <th>TYPAGE80_DSPSN_CNT</th>\n",
       "      <th>TYPAGE30_DSPSN_CNT</th>\n",
       "    </tr>\n",
       "  </thead>\n",
       "  <tbody>\n",
       "    <tr>\n",
       "      <th>0</th>\n",
       "      <td>2020</td>\n",
       "      <td>지체</td>\n",
       "      <td>267043</td>\n",
       "      <td>215</td>\n",
       "      <td>866</td>\n",
       "      <td>3065</td>\n",
       "      <td>3264</td>\n",
       "      <td>28833</td>\n",
       "      <td>59347</td>\n",
       "      <td>72566</td>\n",
       "      <td>57655</td>\n",
       "      <td>31095</td>\n",
       "      <td>10137</td>\n",
       "    </tr>\n",
       "    <tr>\n",
       "      <th>1</th>\n",
       "      <td>2020</td>\n",
       "      <td>시각</td>\n",
       "      <td>54212</td>\n",
       "      <td>195</td>\n",
       "      <td>523</td>\n",
       "      <td>1395</td>\n",
       "      <td>1140</td>\n",
       "      <td>6495</td>\n",
       "      <td>10114</td>\n",
       "      <td>11968</td>\n",
       "      <td>12171</td>\n",
       "      <td>7195</td>\n",
       "      <td>3016</td>\n",
       "    </tr>\n",
       "    <tr>\n",
       "      <th>2</th>\n",
       "      <td>2020</td>\n",
       "      <td>청각</td>\n",
       "      <td>78042</td>\n",
       "      <td>494</td>\n",
       "      <td>727</td>\n",
       "      <td>1226</td>\n",
       "      <td>5299</td>\n",
       "      <td>3148</td>\n",
       "      <td>6589</td>\n",
       "      <td>12418</td>\n",
       "      <td>22456</td>\n",
       "      <td>23995</td>\n",
       "      <td>1690</td>\n",
       "    </tr>\n",
       "    <tr>\n",
       "      <th>3</th>\n",
       "      <td>2020</td>\n",
       "      <td>언어</td>\n",
       "      <td>5168</td>\n",
       "      <td>1177</td>\n",
       "      <td>159</td>\n",
       "      <td>111</td>\n",
       "      <td>22</td>\n",
       "      <td>475</td>\n",
       "      <td>848</td>\n",
       "      <td>1055</td>\n",
       "      <td>798</td>\n",
       "      <td>320</td>\n",
       "      <td>203</td>\n",
       "    </tr>\n",
       "    <tr>\n",
       "      <th>4</th>\n",
       "      <td>2020</td>\n",
       "      <td>지적</td>\n",
       "      <td>45883</td>\n",
       "      <td>2893</td>\n",
       "      <td>8282</td>\n",
       "      <td>12327</td>\n",
       "      <td>10</td>\n",
       "      <td>6090</td>\n",
       "      <td>4897</td>\n",
       "      <td>2711</td>\n",
       "      <td>698</td>\n",
       "      <td>194</td>\n",
       "      <td>7781</td>\n",
       "    </tr>\n",
       "  </tbody>\n",
       "</table>\n",
       "</div>"
      ],
      "text/plain": [
       "  STD_YY OBSTCL_TYPE  TOTSUM AGE10_UD_DSPSN_CNT TYPAGE10_DSPSN_CNT  \\\n",
       "0   2020          지체  267043                215                866   \n",
       "1   2020          시각   54212                195                523   \n",
       "2   2020          청각   78042                494                727   \n",
       "3   2020          언어    5168               1177                159   \n",
       "4   2020          지적   45883               2893               8282   \n",
       "\n",
       "  TYPAGE20_DSPSN_CNT AGE90_ABOVE_DSPSN_CNT TYPAGE40_DSPSN_CNT  \\\n",
       "0               3065                  3264              28833   \n",
       "1               1395                  1140               6495   \n",
       "2               1226                  5299               3148   \n",
       "3                111                    22                475   \n",
       "4              12327                    10               6090   \n",
       "\n",
       "  TYPAGE50_DSPSN_CNT TYPAGE60_DSPSN_CNT TYPAGE70_DSPSN_CNT TYPAGE80_DSPSN_CNT  \\\n",
       "0              59347              72566              57655              31095   \n",
       "1              10114              11968              12171               7195   \n",
       "2               6589              12418              22456              23995   \n",
       "3                848               1055                798                320   \n",
       "4               4897               2711                698                194   \n",
       "\n",
       "  TYPAGE30_DSPSN_CNT  \n",
       "0              10137  \n",
       "1               3016  \n",
       "2               1690  \n",
       "3                203  \n",
       "4               7781  "
      ]
     },
     "execution_count": 7,
     "metadata": {},
     "output_type": "execute_result"
    }
   ],
   "source": [
    "df_age=pd.DataFrame(data['Ggregistdspsntypeage']['row'])\n",
    "df_age"
   ]
  },
  {
   "cell_type": "code",
   "execution_count": 8,
   "metadata": {},
   "outputs": [
    {
     "data": {
      "text/plain": [
       "Index(['STD_YY', 'OBSTCL_TYPE', 'TOTSUM', 'AGE10_UD_DSPSN_CNT',\n",
       "       'TYPAGE10_DSPSN_CNT', 'TYPAGE20_DSPSN_CNT', 'AGE90_ABOVE_DSPSN_CNT',\n",
       "       'TYPAGE40_DSPSN_CNT', 'TYPAGE50_DSPSN_CNT', 'TYPAGE60_DSPSN_CNT',\n",
       "       'TYPAGE70_DSPSN_CNT', 'TYPAGE80_DSPSN_CNT', 'TYPAGE30_DSPSN_CNT'],\n",
       "      dtype='object')"
      ]
     },
     "execution_count": 8,
     "metadata": {},
     "output_type": "execute_result"
    }
   ],
   "source": [
    "df_age.columns"
   ]
  },
  {
   "cell_type": "code",
   "execution_count": 9,
   "metadata": {},
   "outputs": [],
   "source": [
    "df_re_age=df_age.rename(columns={'STD_YY':'기준년도', 'OBSTCL_TYPE':'장애유형', 'TOTSUM':\"총계\", 'AGE10_UD_DSPSN_CNT':'10세 미만 장애인수',\n",
    "       'TYPAGE10_DSPSN_CNT':'10대장애인수', 'TYPAGE20_DSPSN_CNT':'20대장애인수', 'TYPAGE30_DSPSN_CNT':'30대장애인수',\n",
    "       'TYPAGE40_DSPSN_CNT':'40대장애인수', 'TYPAGE50_DSPSN_CNT':'50대장애인수', 'TYPAGE60_DSPSN_CNT':'60대장애인수',\n",
    "       'TYPAGE70_DSPSN_CNT':'70대장애인수', 'TYPAGE80_DSPSN_CNT':'80대장애인수',  'AGE90_ABOVE_DSPSN_CNT':'90대이상장애인수'})"
   ]
  },
  {
   "cell_type": "code",
   "execution_count": 10,
   "metadata": {},
   "outputs": [
    {
     "data": {
      "text/html": [
       "<div>\n",
       "<style scoped>\n",
       "    .dataframe tbody tr th:only-of-type {\n",
       "        vertical-align: middle;\n",
       "    }\n",
       "\n",
       "    .dataframe tbody tr th {\n",
       "        vertical-align: top;\n",
       "    }\n",
       "\n",
       "    .dataframe thead th {\n",
       "        text-align: right;\n",
       "    }\n",
       "</style>\n",
       "<table border=\"1\" class=\"dataframe\">\n",
       "  <thead>\n",
       "    <tr style=\"text-align: right;\">\n",
       "      <th></th>\n",
       "      <th>기준년도</th>\n",
       "      <th>장애유형</th>\n",
       "      <th>총계</th>\n",
       "      <th>10세 미만 장애인수</th>\n",
       "      <th>10대장애인수</th>\n",
       "      <th>20대장애인수</th>\n",
       "      <th>90대이상장애인수</th>\n",
       "      <th>40대장애인수</th>\n",
       "      <th>50대장애인수</th>\n",
       "      <th>60대장애인수</th>\n",
       "      <th>70대장애인수</th>\n",
       "      <th>80대장애인수</th>\n",
       "      <th>30대장애인수</th>\n",
       "    </tr>\n",
       "  </thead>\n",
       "  <tbody>\n",
       "    <tr>\n",
       "      <th>0</th>\n",
       "      <td>2020</td>\n",
       "      <td>지체</td>\n",
       "      <td>267043</td>\n",
       "      <td>215</td>\n",
       "      <td>866</td>\n",
       "      <td>3065</td>\n",
       "      <td>3264</td>\n",
       "      <td>28833</td>\n",
       "      <td>59347</td>\n",
       "      <td>72566</td>\n",
       "      <td>57655</td>\n",
       "      <td>31095</td>\n",
       "      <td>10137</td>\n",
       "    </tr>\n",
       "    <tr>\n",
       "      <th>1</th>\n",
       "      <td>2020</td>\n",
       "      <td>시각</td>\n",
       "      <td>54212</td>\n",
       "      <td>195</td>\n",
       "      <td>523</td>\n",
       "      <td>1395</td>\n",
       "      <td>1140</td>\n",
       "      <td>6495</td>\n",
       "      <td>10114</td>\n",
       "      <td>11968</td>\n",
       "      <td>12171</td>\n",
       "      <td>7195</td>\n",
       "      <td>3016</td>\n",
       "    </tr>\n",
       "    <tr>\n",
       "      <th>2</th>\n",
       "      <td>2020</td>\n",
       "      <td>청각</td>\n",
       "      <td>78042</td>\n",
       "      <td>494</td>\n",
       "      <td>727</td>\n",
       "      <td>1226</td>\n",
       "      <td>5299</td>\n",
       "      <td>3148</td>\n",
       "      <td>6589</td>\n",
       "      <td>12418</td>\n",
       "      <td>22456</td>\n",
       "      <td>23995</td>\n",
       "      <td>1690</td>\n",
       "    </tr>\n",
       "    <tr>\n",
       "      <th>3</th>\n",
       "      <td>2020</td>\n",
       "      <td>언어</td>\n",
       "      <td>5168</td>\n",
       "      <td>1177</td>\n",
       "      <td>159</td>\n",
       "      <td>111</td>\n",
       "      <td>22</td>\n",
       "      <td>475</td>\n",
       "      <td>848</td>\n",
       "      <td>1055</td>\n",
       "      <td>798</td>\n",
       "      <td>320</td>\n",
       "      <td>203</td>\n",
       "    </tr>\n",
       "    <tr>\n",
       "      <th>4</th>\n",
       "      <td>2020</td>\n",
       "      <td>지적</td>\n",
       "      <td>45883</td>\n",
       "      <td>2893</td>\n",
       "      <td>8282</td>\n",
       "      <td>12327</td>\n",
       "      <td>10</td>\n",
       "      <td>6090</td>\n",
       "      <td>4897</td>\n",
       "      <td>2711</td>\n",
       "      <td>698</td>\n",
       "      <td>194</td>\n",
       "      <td>7781</td>\n",
       "    </tr>\n",
       "  </tbody>\n",
       "</table>\n",
       "</div>"
      ],
      "text/plain": [
       "   기준년도 장애유형      총계 10세 미만 장애인수 10대장애인수 20대장애인수 90대이상장애인수 40대장애인수 50대장애인수  \\\n",
       "0  2020   지체  267043         215     866    3065      3264   28833   59347   \n",
       "1  2020   시각   54212         195     523    1395      1140    6495   10114   \n",
       "2  2020   청각   78042         494     727    1226      5299    3148    6589   \n",
       "3  2020   언어    5168        1177     159     111        22     475     848   \n",
       "4  2020   지적   45883        2893    8282   12327        10    6090    4897   \n",
       "\n",
       "  60대장애인수 70대장애인수 80대장애인수 30대장애인수  \n",
       "0   72566   57655   31095   10137  \n",
       "1   11968   12171    7195    3016  \n",
       "2   12418   22456   23995    1690  \n",
       "3    1055     798     320     203  \n",
       "4    2711     698     194    7781  "
      ]
     },
     "execution_count": 10,
     "metadata": {},
     "output_type": "execute_result"
    }
   ],
   "source": [
    "df_re_age"
   ]
  },
  {
   "cell_type": "code",
   "execution_count": 15,
   "metadata": {},
   "outputs": [
    {
     "data": {
      "text/plain": [
       "총계             450348\n",
       "10세 미만 장애인수      4974\n",
       "10대장애인수         10557\n",
       "20대장애인수         18124\n",
       "30대장애인수         22827\n",
       "40대장애인수         45041\n",
       "50대장애인수         81795\n",
       "60대장애인수        100718\n",
       "70대장애인수         93778\n",
       "80대장애인수         62799\n",
       "90대이상장애인수        9735\n",
       "dtype: int64"
      ]
     },
     "execution_count": 15,
     "metadata": {},
     "output_type": "execute_result"
    }
   ],
   "source": [
    "df_sum=df_re_age[['총계','10세 미만 장애인수','10대장애인수','20대장애인수','30대장애인수','40대장애인수','50대장애인수','60대장애인수','70대장애인수','80대장애인수','90대이상장애인수']].astype(int).sum()\n",
    "df_sum"
   ]
  },
  {
   "cell_type": "code",
   "execution_count": null,
   "metadata": {},
   "outputs": [],
   "source": [
    "plt.figure(figsize=(16,9))\n",
    "plt.plot(df_type1['2011'], marker='^', label='2011')\n",
    "plt.plot(df_type1['2020'], marker='o', label='2020')\n",
    "plt.xlabel('장애유형별', size = 25)\n",
    "plt.ylabel('장애인 수', size = 25)\n",
    "plt.title('유형별 장애인 인구 수 증가', size = 30)\n",
    "plt.grid(alpha=1)\n",
    "plt.xticks(rotation=50, size=20)\n",
    "plt.legend(fontsize=20)\n",
    "plt.show()"
   ]
  },
  {
   "cell_type": "code",
   "execution_count": null,
   "metadata": {},
   "outputs": [],
   "source": [
    "df_type1=df_sum.groupby('장애유형별')[['2011','2020']].sum()\n",
    "df_type1"
   ]
  }
 ],
 "metadata": {
  "kernelspec": {
   "display_name": "Python 3",
   "language": "python",
   "name": "python3"
  },
  "language_info": {
   "codemirror_mode": {
    "name": "ipython",
    "version": 3
   },
   "file_extension": ".py",
   "mimetype": "text/x-python",
   "name": "python",
   "nbconvert_exporter": "python",
   "pygments_lexer": "ipython3",
   "version": "3.8.5"
  }
 },
 "nbformat": 4,
 "nbformat_minor": 4
}
